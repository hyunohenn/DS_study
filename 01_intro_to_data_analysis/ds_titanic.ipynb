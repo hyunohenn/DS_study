{
 "cells": [
  {
   "cell_type": "code",
   "execution_count": 54,
   "id": "arabic-glory",
   "metadata": {},
   "outputs": [],
   "source": [
    "import warnings\n",
    "warnings.filterwarnings('ignore')"
   ]
  },
  {
   "cell_type": "code",
   "execution_count": 55,
   "id": "continent-peter",
   "metadata": {},
   "outputs": [
    {
     "data": {
      "text/plain": [
       "<seaborn.axisgrid.FacetGrid at 0x7f8d53c7b430>"
      ]
     },
     "execution_count": 55,
     "metadata": {},
     "output_type": "execute_result"
    },
    {
     "data": {
      "image/png": "[encoded data removed]",
      "text/plain": [
       "<Figure size 360x360 with 1 Axes>"
      ]
     },
     "metadata": {
      "needs_background": "light"
     },
     "output_type": "display_data"
    }
   ],
   "source": [
    "import csv\n",
    "import pandas as pd\n",
    "from pandas import Series, DataFrame\n",
    "import numpy as np\n",
    "import matplotlib.pyplot as plt\n",
    "import seaborn as sns\n",
    "\n",
    "titanic_df = pd.read_csv('titanic_data.csv')\n",
    "\n",
    "sns.factorplot('Embarked', kind='count', data=titanic_df)"
   ]
  },
  {
   "cell_type": "code",
   "execution_count": 56,
   "id": "union-territory",
   "metadata": {},
   "outputs": [],
   "source": [
    "titanic_df.head()\n",
    "\n",
    "def male_female_child(passenger):\n",
    "    age, sex = passenger\n",
    "    if age < 16:\n",
    "        return 'child'\n",
    "    else:\n",
    "        return sex\n",
    "titanic_df['person'] = titanic_df[['Age','Sex']].apply(male_female_child, axis=1)"
   ]
  },
  {
   "cell_type": "code",
   "execution_count": 57,
   "id": "qualified-project",
   "metadata": {},
   "outputs": [
    {
     "data": {
      "image/png": "[encoded data removed]",
      "text/plain": [
       "<Figure size 430.5x360 with 1 Axes>"
      ]
     },
     "metadata": {
      "needs_background": "light"
     },
     "output_type": "display_data"
    }
   ],
   "source": [
    "sns.factorplot('Embarked', kind='count', hue='person', data=titanic_df, order=['C','Q','S'] );"
   ]
  },
  {
   "cell_type": "code",
   "execution_count": 58,
   "id": "introductory-fifteen",
   "metadata": {},
   "outputs": [
    {
     "data": {
      "text/plain": [
       "<seaborn.axisgrid.FacetGrid at 0x7f8d541d8ca0>"
      ]
     },
     "execution_count": 58,
     "metadata": {},
     "output_type": "execute_result"
    },
    {
     "data": {
      "image/png": "[encoded data removed]",
      "text/plain": [
       "<Figure size 402.375x360 with 1 Axes>"
      ]
     },
     "metadata": {
      "needs_background": "light"
     },
     "output_type": "display_data"
    }
   ],
   "source": [
    "sns.factorplot('Embarked', kind='count', hue='Pclass', data=titanic_df, order=['C','Q','S'] )"
   ]
  },
  {
   "cell_type": "code",
   "execution_count": 60,
   "id": "clear-block",
   "metadata": {},
   "outputs": [
    {
     "data": {
      "text/html": [
       "<style  type=\"text/css\" >\n",
       "#T_e9a22_row0_col0{\n",
       "            background-color:  #f1f866;\n",
       "            color:  #000000;\n",
       "        }#T_e9a22_row0_col1{\n",
       "            background-color:  #cbe566;\n",
       "            color:  #000000;\n",
       "        }#T_e9a22_row0_col2{\n",
       "            background-color:  #e3f166;\n",
       "            color:  #000000;\n",
       "        }#T_e9a22_row1_col0,#T_e9a22_row1_col1,#T_e9a22_row1_col2{\n",
       "            background-color:  #ffff66;\n",
       "            color:  #000000;\n",
       "        }#T_e9a22_row2_col0{\n",
       "            background-color:  #3e9e66;\n",
       "            color:  #000000;\n",
       "        }#T_e9a22_row2_col1{\n",
       "            background-color:  #65b266;\n",
       "            color:  #000000;\n",
       "        }#T_e9a22_row2_col2{\n",
       "            background-color:  #4da666;\n",
       "            color:  #000000;\n",
       "        }#T_e9a22_row3_col0,#T_e9a22_row3_col1,#T_e9a22_row3_col2{\n",
       "            background-color:  #008066;\n",
       "            color:  #f1f1f1;\n",
       "        }</style><table id=\"T_e9a22_\" ><thead>    <tr>        <th class=\"index_name level0\" >Survived</th>        <th class=\"col_heading level0 col0\" >0</th>        <th class=\"col_heading level0 col1\" >1</th>        <th class=\"col_heading level0 col2\" >All</th>    </tr>    <tr>        <th class=\"index_name level0\" >Embarked</th>        <th class=\"blank\" ></th>        <th class=\"blank\" ></th>        <th class=\"blank\" ></th>    </tr></thead><tbody>\n",
       "                <tr>\n",
       "                        <th id=\"T_e9a22_level0_row0\" class=\"row_heading level0 row0\" >C</th>\n",
       "                        <td id=\"T_e9a22_row0_col0\" class=\"data row0 col0\" >75</td>\n",
       "                        <td id=\"T_e9a22_row0_col1\" class=\"data row0 col1\" >93</td>\n",
       "                        <td id=\"T_e9a22_row0_col2\" class=\"data row0 col2\" >168</td>\n",
       "            </tr>\n",
       "            <tr>\n",
       "                        <th id=\"T_e9a22_level0_row1\" class=\"row_heading level0 row1\" >Q</th>\n",
       "                        <td id=\"T_e9a22_row1_col0\" class=\"data row1 col0\" >47</td>\n",
       "                        <td id=\"T_e9a22_row1_col1\" class=\"data row1 col1\" >30</td>\n",
       "                        <td id=\"T_e9a22_row1_col2\" class=\"data row1 col2\" >77</td>\n",
       "            </tr>\n",
       "            <tr>\n",
       "                        <th id=\"T_e9a22_level0_row2\" class=\"row_heading level0 row2\" >S</th>\n",
       "                        <td id=\"T_e9a22_row2_col0\" class=\"data row2 col0\" >427</td>\n",
       "                        <td id=\"T_e9a22_row2_col1\" class=\"data row2 col1\" >217</td>\n",
       "                        <td id=\"T_e9a22_row2_col2\" class=\"data row2 col2\" >644</td>\n",
       "            </tr>\n",
       "            <tr>\n",
       "                        <th id=\"T_e9a22_level0_row3\" class=\"row_heading level0 row3\" >All</th>\n",
       "                        <td id=\"T_e9a22_row3_col0\" class=\"data row3 col0\" >549</td>\n",
       "                        <td id=\"T_e9a22_row3_col1\" class=\"data row3 col1\" >340</td>\n",
       "                        <td id=\"T_e9a22_row3_col2\" class=\"data row3 col2\" >889</td>\n",
       "            </tr>\n",
       "    </tbody></table>"
      ],
      "text/plain": [
       "<pandas.io.formats.style.Styler at 0x7f8d541ed5e0>"
      ]
     },
     "execution_count": 60,
     "metadata": {},
     "output_type": "execute_result"
    }
   ],
   "source": [
    "pd.crosstab(titanic_df.Embarked, titanic_df.Survived, margins=True).style.background_gradient(cmap='summer_r')"
   ]
  },
  {
   "cell_type": "code",
   "execution_count": 52,
   "id": "sealed-algorithm",
   "metadata": {},
   "outputs": [
    {
     "name": "stdout",
     "output_type": "stream",
     "text": [
      "C 55.35714285714286\n",
      "Q 38.961038961038966\n",
      "S 33.69565217391305\n"
     ]
    }
   ],
   "source": [
    "print ('C' , ((93/168)*100) )\n",
    "print ('Q' , ((30/77)*100) )\n",
    "print ('S' , ((217/644)*100) )\n"
   ]
  },
  {
   "cell_type": "code",
   "execution_count": 61,
   "id": "practical-hampton",
   "metadata": {},
   "outputs": [
    {
     "data": {
      "text/html": [
       "<style  type=\"text/css\" >\n",
       "#T_75512_row0_col0,#T_75512_row0_col1,#T_75512_row0_col2,#T_75512_row0_col3,#T_75512_row0_col4,#T_75512_row0_col5,#T_75512_row0_col6,#T_75512_row1_col0,#T_75512_row1_col2,#T_75512_row1_col3,#T_75512_row1_col4,#T_75512_row3_col2,#T_75512_row3_col4,#T_75512_row4_col0,#T_75512_row4_col2,#T_75512_row6_col3,#T_75512_row7_col3{\n",
       "            background-color:  #ffff66;\n",
       "            color:  #000000;\n",
       "        }#T_75512_row1_col1,#T_75512_row2_col3,#T_75512_row3_col3{\n",
       "            background-color:  #f7fb66;\n",
       "            color:  #000000;\n",
       "        }#T_75512_row1_col5,#T_75512_row2_col0,#T_75512_row4_col1{\n",
       "            background-color:  #f2f866;\n",
       "            color:  #000000;\n",
       "        }#T_75512_row1_col6,#T_75512_row3_col0,#T_75512_row4_col4{\n",
       "            background-color:  #fcfe66;\n",
       "            color:  #000000;\n",
       "        }#T_75512_row2_col1,#T_75512_row6_col4{\n",
       "            background-color:  #e1f066;\n",
       "            color:  #000000;\n",
       "        }#T_75512_row2_col2{\n",
       "            background-color:  #eaf466;\n",
       "            color:  #000000;\n",
       "        }#T_75512_row2_col4{\n",
       "            background-color:  #f1f866;\n",
       "            color:  #000000;\n",
       "        }#T_75512_row2_col5{\n",
       "            background-color:  #f6fa66;\n",
       "            color:  #000000;\n",
       "        }#T_75512_row2_col6{\n",
       "            background-color:  #f0f866;\n",
       "            color:  #000000;\n",
       "        }#T_75512_row3_col1{\n",
       "            background-color:  #8cc666;\n",
       "            color:  #000000;\n",
       "        }#T_75512_row3_col5{\n",
       "            background-color:  #d0e866;\n",
       "            color:  #000000;\n",
       "        }#T_75512_row3_col6,#T_75512_row6_col5{\n",
       "            background-color:  #e7f366;\n",
       "            color:  #000000;\n",
       "        }#T_75512_row4_col3,#T_75512_row4_col6{\n",
       "            background-color:  #eef666;\n",
       "            color:  #000000;\n",
       "        }#T_75512_row4_col5{\n",
       "            background-color:  #c6e266;\n",
       "            color:  #000000;\n",
       "        }#T_75512_row5_col0{\n",
       "            background-color:  #ebf566;\n",
       "            color:  #000000;\n",
       "        }#T_75512_row5_col1{\n",
       "            background-color:  #eff766;\n",
       "            color:  #000000;\n",
       "        }#T_75512_row5_col2,#T_75512_row7_col4{\n",
       "            background-color:  #cee666;\n",
       "            color:  #000000;\n",
       "        }#T_75512_row5_col3{\n",
       "            background-color:  #3b9d66;\n",
       "            color:  #000000;\n",
       "        }#T_75512_row5_col4,#T_75512_row8_col3{\n",
       "            background-color:  #e6f266;\n",
       "            color:  #000000;\n",
       "        }#T_75512_row5_col5,#T_75512_row7_col6,#T_75512_row8_col5{\n",
       "            background-color:  #e5f266;\n",
       "            color:  #000000;\n",
       "        }#T_75512_row5_col6{\n",
       "            background-color:  #e0f066;\n",
       "            color:  #000000;\n",
       "        }#T_75512_row6_col0{\n",
       "            background-color:  #aad466;\n",
       "            color:  #000000;\n",
       "        }#T_75512_row6_col1{\n",
       "            background-color:  #d1e866;\n",
       "            color:  #000000;\n",
       "        }#T_75512_row6_col2,#T_75512_row7_col2{\n",
       "            background-color:  #fafc66;\n",
       "            color:  #000000;\n",
       "        }#T_75512_row6_col6{\n",
       "            background-color:  #dfef66;\n",
       "            color:  #000000;\n",
       "        }#T_75512_row7_col0{\n",
       "            background-color:  #e4f266;\n",
       "            color:  #000000;\n",
       "        }#T_75512_row7_col1,#T_75512_row7_col5{\n",
       "            background-color:  #fdfe66;\n",
       "            color:  #000000;\n",
       "        }#T_75512_row8_col0{\n",
       "            background-color:  #96cb66;\n",
       "            color:  #000000;\n",
       "        }#T_75512_row8_col1{\n",
       "            background-color:  #e9f466;\n",
       "            color:  #000000;\n",
       "        }#T_75512_row8_col2{\n",
       "            background-color:  #51a866;\n",
       "            color:  #000000;\n",
       "        }#T_75512_row8_col4{\n",
       "            background-color:  #7dbe66;\n",
       "            color:  #000000;\n",
       "        }#T_75512_row8_col6{\n",
       "            background-color:  #a5d266;\n",
       "            color:  #000000;\n",
       "        }#T_75512_row9_col0,#T_75512_row9_col1,#T_75512_row9_col2,#T_75512_row9_col3,#T_75512_row9_col4,#T_75512_row9_col5,#T_75512_row9_col6{\n",
       "            background-color:  #008066;\n",
       "            color:  #f1f1f1;\n",
       "        }</style><table id=\"T_75512_\" ><thead>    <tr>        <th class=\"blank\" ></th>        <th class=\"index_name level0\" >Embarked</th>        <th class=\"col_heading level0 col0\" colspan=\"2\">C</th>        <th class=\"col_heading level0 col2\" colspan=\"2\">Q</th>        <th class=\"col_heading level0 col4\" colspan=\"2\">S</th>        <th class=\"col_heading level0 col6\" >All</th>    </tr>    <tr>        <th class=\"blank\" ></th>        <th class=\"index_name level1\" >Survived</th>        <th class=\"col_heading level1 col0\" >0</th>        <th class=\"col_heading level1 col1\" >1</th>        <th class=\"col_heading level1 col2\" >0</th>        <th class=\"col_heading level1 col3\" >1</th>        <th class=\"col_heading level1 col4\" >0</th>        <th class=\"col_heading level1 col5\" >1</th>        <th class=\"col_heading level1 col6\" ></th>    </tr>    <tr>        <th class=\"index_name level0\" >person</th>        <th class=\"index_name level1\" >Pclass</th>        <th class=\"blank\" ></th>        <th class=\"blank\" ></th>        <th class=\"blank\" ></th>        <th class=\"blank\" ></th>        <th class=\"blank\" ></th>        <th class=\"blank\" ></th>        <th class=\"blank\" ></th>    </tr></thead><tbody>\n",
       "                <tr>\n",
       "                        <th id=\"T_75512_level0_row0\" class=\"row_heading level0 row0\" rowspan=\"3\">child</th>\n",
       "                        <th id=\"T_75512_level1_row0\" class=\"row_heading level1 row0\" >1</th>\n",
       "                        <td id=\"T_75512_row0_col0\" class=\"data row0 col0\" >0</td>\n",
       "                        <td id=\"T_75512_row0_col1\" class=\"data row0 col1\" >0</td>\n",
       "                        <td id=\"T_75512_row0_col2\" class=\"data row0 col2\" >0</td>\n",
       "                        <td id=\"T_75512_row0_col3\" class=\"data row0 col3\" >0</td>\n",
       "                        <td id=\"T_75512_row0_col4\" class=\"data row0 col4\" >1</td>\n",
       "                        <td id=\"T_75512_row0_col5\" class=\"data row0 col5\" >5</td>\n",
       "                        <td id=\"T_75512_row0_col6\" class=\"data row0 col6\" >6</td>\n",
       "            </tr>\n",
       "            <tr>\n",
       "                                <th id=\"T_75512_level1_row1\" class=\"row_heading level1 row1\" >2</th>\n",
       "                        <td id=\"T_75512_row1_col0\" class=\"data row1 col0\" >0</td>\n",
       "                        <td id=\"T_75512_row1_col1\" class=\"data row1 col1\" >3</td>\n",
       "                        <td id=\"T_75512_row1_col2\" class=\"data row1 col2\" >0</td>\n",
       "                        <td id=\"T_75512_row1_col3\" class=\"data row1 col3\" >0</td>\n",
       "                        <td id=\"T_75512_row1_col4\" class=\"data row1 col4\" >0</td>\n",
       "                        <td id=\"T_75512_row1_col5\" class=\"data row1 col5\" >16</td>\n",
       "                        <td id=\"T_75512_row1_col6\" class=\"data row1 col6\" >19</td>\n",
       "            </tr>\n",
       "            <tr>\n",
       "                                <th id=\"T_75512_level1_row2\" class=\"row_heading level1 row2\" >3</th>\n",
       "                        <td id=\"T_75512_row2_col0\" class=\"data row2 col0\" >4</td>\n",
       "                        <td id=\"T_75512_row2_col1\" class=\"data row2 col1\" >11</td>\n",
       "                        <td id=\"T_75512_row2_col2\" class=\"data row2 col2\" >4</td>\n",
       "                        <td id=\"T_75512_row2_col3\" class=\"data row2 col3\" >1</td>\n",
       "                        <td id=\"T_75512_row2_col4\" class=\"data row2 col4\" >25</td>\n",
       "                        <td id=\"T_75512_row2_col5\" class=\"data row2 col5\" >13</td>\n",
       "                        <td id=\"T_75512_row2_col6\" class=\"data row2 col6\" >58</td>\n",
       "            </tr>\n",
       "            <tr>\n",
       "                        <th id=\"T_75512_level0_row3\" class=\"row_heading level0 row3\" rowspan=\"3\">female</th>\n",
       "                        <th id=\"T_75512_level1_row3\" class=\"row_heading level1 row3\" >1</th>\n",
       "                        <td id=\"T_75512_row3_col0\" class=\"data row3 col0\" >1</td>\n",
       "                        <td id=\"T_75512_row3_col1\" class=\"data row3 col1\" >42</td>\n",
       "                        <td id=\"T_75512_row3_col2\" class=\"data row3 col2\" >0</td>\n",
       "                        <td id=\"T_75512_row3_col3\" class=\"data row3 col3\" >1</td>\n",
       "                        <td id=\"T_75512_row3_col4\" class=\"data row3 col4\" >1</td>\n",
       "                        <td id=\"T_75512_row3_col5\" class=\"data row3 col5\" >44</td>\n",
       "                        <td id=\"T_75512_row3_col6\" class=\"data row3 col6\" >89</td>\n",
       "            </tr>\n",
       "            <tr>\n",
       "                                <th id=\"T_75512_level1_row4\" class=\"row_heading level1 row4\" >2</th>\n",
       "                        <td id=\"T_75512_row4_col0\" class=\"data row4 col0\" >0</td>\n",
       "                        <td id=\"T_75512_row4_col1\" class=\"data row4 col1\" >5</td>\n",
       "                        <td id=\"T_75512_row4_col2\" class=\"data row4 col2\" >0</td>\n",
       "                        <td id=\"T_75512_row4_col3\" class=\"data row4 col3\" >2</td>\n",
       "                        <td id=\"T_75512_row4_col4\" class=\"data row4 col4\" >6</td>\n",
       "                        <td id=\"T_75512_row4_col5\" class=\"data row4 col5\" >53</td>\n",
       "                        <td id=\"T_75512_row4_col6\" class=\"data row4 col6\" >66</td>\n",
       "            </tr>\n",
       "            <tr>\n",
       "                                <th id=\"T_75512_level1_row5\" class=\"row_heading level1 row5\" >3</th>\n",
       "                        <td id=\"T_75512_row5_col0\" class=\"data row5 col0\" >6</td>\n",
       "                        <td id=\"T_75512_row5_col1\" class=\"data row5 col1\" >6</td>\n",
       "                        <td id=\"T_75512_row5_col2\" class=\"data row5 col2\" >9</td>\n",
       "                        <td id=\"T_75512_row5_col3\" class=\"data row5 col3\" >23</td>\n",
       "                        <td id=\"T_75512_row5_col4\" class=\"data row5 col4\" >43</td>\n",
       "                        <td id=\"T_75512_row5_col5\" class=\"data row5 col5\" >27</td>\n",
       "                        <td id=\"T_75512_row5_col6\" class=\"data row5 col6\" >114</td>\n",
       "            </tr>\n",
       "            <tr>\n",
       "                        <th id=\"T_75512_level0_row6\" class=\"row_heading level0 row6\" rowspan=\"3\">male</th>\n",
       "                        <th id=\"T_75512_level1_row6\" class=\"row_heading level1 row6\" >1</th>\n",
       "                        <td id=\"T_75512_row6_col0\" class=\"data row6 col0\" >25</td>\n",
       "                        <td id=\"T_75512_row6_col1\" class=\"data row6 col1\" >17</td>\n",
       "                        <td id=\"T_75512_row6_col2\" class=\"data row6 col2\" >1</td>\n",
       "                        <td id=\"T_75512_row6_col3\" class=\"data row6 col3\" >0</td>\n",
       "                        <td id=\"T_75512_row6_col4\" class=\"data row6 col4\" >51</td>\n",
       "                        <td id=\"T_75512_row6_col5\" class=\"data row6 col5\" >25</td>\n",
       "                        <td id=\"T_75512_row6_col6\" class=\"data row6 col6\" >119</td>\n",
       "            </tr>\n",
       "            <tr>\n",
       "                                <th id=\"T_75512_level1_row7\" class=\"row_heading level1 row7\" >2</th>\n",
       "                        <td id=\"T_75512_row7_col0\" class=\"data row7 col0\" >8</td>\n",
       "                        <td id=\"T_75512_row7_col1\" class=\"data row7 col1\" >1</td>\n",
       "                        <td id=\"T_75512_row7_col2\" class=\"data row7 col2\" >1</td>\n",
       "                        <td id=\"T_75512_row7_col3\" class=\"data row7 col3\" >0</td>\n",
       "                        <td id=\"T_75512_row7_col4\" class=\"data row7 col4\" >82</td>\n",
       "                        <td id=\"T_75512_row7_col5\" class=\"data row7 col5\" >7</td>\n",
       "                        <td id=\"T_75512_row7_col6\" class=\"data row7 col6\" >99</td>\n",
       "            </tr>\n",
       "            <tr>\n",
       "                                <th id=\"T_75512_level1_row8\" class=\"row_heading level1 row8\" >3</th>\n",
       "                        <td id=\"T_75512_row8_col0\" class=\"data row8 col0\" >31</td>\n",
       "                        <td id=\"T_75512_row8_col1\" class=\"data row8 col1\" >8</td>\n",
       "                        <td id=\"T_75512_row8_col2\" class=\"data row8 col2\" >32</td>\n",
       "                        <td id=\"T_75512_row8_col3\" class=\"data row8 col3\" >3</td>\n",
       "                        <td id=\"T_75512_row8_col4\" class=\"data row8 col4\" >218</td>\n",
       "                        <td id=\"T_75512_row8_col5\" class=\"data row8 col5\" >27</td>\n",
       "                        <td id=\"T_75512_row8_col6\" class=\"data row8 col6\" >319</td>\n",
       "            </tr>\n",
       "            <tr>\n",
       "                        <th id=\"T_75512_level0_row9\" class=\"row_heading level0 row9\" >All</th>\n",
       "                        <th id=\"T_75512_level1_row9\" class=\"row_heading level1 row9\" ></th>\n",
       "                        <td id=\"T_75512_row9_col0\" class=\"data row9 col0\" >75</td>\n",
       "                        <td id=\"T_75512_row9_col1\" class=\"data row9 col1\" >93</td>\n",
       "                        <td id=\"T_75512_row9_col2\" class=\"data row9 col2\" >47</td>\n",
       "                        <td id=\"T_75512_row9_col3\" class=\"data row9 col3\" >30</td>\n",
       "                        <td id=\"T_75512_row9_col4\" class=\"data row9 col4\" >427</td>\n",
       "                        <td id=\"T_75512_row9_col5\" class=\"data row9 col5\" >217</td>\n",
       "                        <td id=\"T_75512_row9_col6\" class=\"data row9 col6\" >889</td>\n",
       "            </tr>\n",
       "    </tbody></table>"
      ],
      "text/plain": [
       "<pandas.io.formats.style.Styler at 0x7f8d54252df0>"
      ]
     },
     "execution_count": 61,
     "metadata": {},
     "output_type": "execute_result"
    }
   ],
   "source": [
    "pd.crosstab([titanic_df.person, titanic_df.Pclass], [titanic_df.Embarked, titanic_df.Survived], margins=True).style.background_gradient(cmap='summer_r')"
   ]
  },
  {
   "cell_type": "code",
   "execution_count": 63,
   "id": "upper-dealing",
   "metadata": {},
   "outputs": [
    {
     "name": "stdout",
     "output_type": "stream",
     "text": [
      "0.08463949843260188\n"
     ]
    }
   ],
   "source": [
    "print(27/319)"
   ]
  },
  {
   "cell_type": "code",
   "execution_count": null,
   "id": "roman-restoration",
   "metadata": {},
   "outputs": [],
   "source": [
    "1등급 승객이 가장 많았던 cherbourg 출발 승객의 생존율이 압도적으로 높다. 1등급 여자 승객의 경우에도 생존율이 매우 높았다.\n",
    "전반적인 승객수와 더불어 3등급 승객이 가장 많았던 Southampton 출발 그룹의 생존율이 가장 낮았고 그중에서 3등급 남성의 생존율은 8.46%에 불과하였다. "
   ]
  },
  {
   "cell_type": "code",
   "execution_count": 49,
   "id": "computational-finish",
   "metadata": {
    "scrolled": true
   },
   "outputs": [
    {
     "name": "stderr",
     "output_type": "stream",
     "text": [
      "/Users/jooheeJin/opt/anaconda3/envs/tea_facts/lib/python3.9/site-packages/seaborn/categorical.py:3714: UserWarning: The `factorplot` function has been renamed to `catplot`. The original name will be removed in a future release. Please update your code. Note that the default `kind` in `factorplot` (`'point'`) has changed `'strip'` in `catplot`.\n",
      "  warnings.warn(msg)\n",
      "/Users/jooheeJin/opt/anaconda3/envs/tea_facts/lib/python3.9/site-packages/seaborn/_decorators.py:36: FutureWarning: Pass the following variables as keyword args: x, y. From version 0.12, the only valid positional argument will be `data`, and passing other arguments without an explicit keyword will result in an error or misinterpretation.\n",
      "  warnings.warn(\n"
     ]
    },
    {
     "data": {
      "text/plain": [
       "<seaborn.axisgrid.FacetGrid at 0x7f8d538dcc70>"
      ]
     },
     "execution_count": 49,
     "metadata": {},
     "output_type": "execute_result"
    },
    {
     "data": {
      "image/png": "[encoded data removed]",
      "text/plain": [
       "<Figure size 430.5x360 with 1 Axes>"
      ]
     },
     "metadata": {
      "needs_background": "light"
     },
     "output_type": "display_data"
    }
   ],
   "source": [
    "sns.factorplot('Embarked', 'Pclass', hue='person' , data=titanic_df, order=['S','C','Q'] )"
   ]
  },
  {
   "cell_type": "code",
   "execution_count": 36,
   "id": "advance-horse",
   "metadata": {},
   "outputs": [
    {
     "data": {
      "image/png": "[encoded data removed]",
      "text/plain": [
       "<Figure size 720x360 with 1 Axes>"
      ]
     },
     "metadata": {
      "needs_background": "light"
     },
     "output_type": "display_data"
    }
   ],
   "source": [
    "def bar_chart(feature):\n",
    "    survived = titanic_df[titanic_df['Survived']==1][feature].value_counts()\n",
    "    dead = titanic_df[titanic_df['Survived']==0][feature].value_counts()\n",
    "    df = pd.DataFrame([survived, dead])\n",
    "    df.index=['survived', 'dead']\n",
    "    df.plot(kind='bar', stacked=True, figsize=(10,5))\n",
    "\n",
    "bar_chart(\"Embarked\")"
   ]
  },
  {
   "cell_type": "code",
   "execution_count": 59,
   "id": "integral-caution",
   "metadata": {},
   "outputs": [
    {
     "data": {
      "text/plain": [
       "<seaborn.axisgrid.FacetGrid at 0x7f8d544093a0>"
      ]
     },
     "execution_count": 59,
     "metadata": {},
     "output_type": "execute_result"
    },
    {
     "data": {
      "image/png": "[encoded data removed]",
      "text/plain": [
       "<Figure size 430.5x360 with 1 Axes>"
      ]
     },
     "metadata": {
      "needs_background": "light"
     },
     "output_type": "display_data"
    }
   ],
   "source": [
    "sns.factorplot('Embarked', 'Survived', hue='person', data=titanic_df, order=['S','C','Q'] )"
   ]
  },
  {
   "cell_type": "code",
   "execution_count": null,
   "id": "analyzed-package",
   "metadata": {},
   "outputs": [],
   "source": []
  }
 ],
 "metadata": {
  "kernelspec": {
   "display_name": "Python 3",
   "language": "python",
   "name": "python3"
  },
  "language_info": {
   "codemirror_mode": {
    "name": "ipython",
    "version": 3
   },
   "file_extension": ".py",
   "mimetype": "text/x-python",
   "name": "python",
   "nbconvert_exporter": "python",
   "pygments_lexer": "ipython3",
   "version": "3.9.2"
  }
 },
 "nbformat": 4,
 "nbformat_minor": 5
}
